{
 "cells": [
  {
   "cell_type": "markdown",
   "metadata": {},
   "source": [
    "# Pure numpy and OOP implementation of Decision Trees"
   ]
  },
  {
   "cell_type": "markdown",
   "metadata": {},
   "source": [
    "---"
   ]
  },
  {
   "cell_type": "markdown",
   "metadata": {
    "nbgrader": {
     "grade": false,
     "grade_id": "cell-6bd0516e7cb654f5",
     "locked": true,
     "schema_version": 1,
     "solution": false
    }
   },
   "source": [
    "Implementation with numpy only (without sklearn), following OOP.<br>\n",
    "Constructing a decision tree algorithm, with two impurity measures: Gini and Entropy.<br>\n",
    "Pruning the tree for achieving better results (finding the optimal hyperparameters),<br>\n",
    "Visualize the results, and the tree."
   ]
  },
  {
   "cell_type": "markdown",
   "metadata": {},
   "source": [
    "---"
   ]
  },
  {
   "cell_type": "markdown",
   "metadata": {},
   "source": [
    "Basic imports"
   ]
  },
  {
   "cell_type": "code",
   "execution_count": 1,
   "metadata": {
    "nbgrader": {
     "grade": false,
     "grade_id": "cell-ed9fe7b1026e33cb",
     "locked": true,
     "schema_version": 1,
     "solution": false
    }
   },
   "outputs": [],
   "source": [
    "import numpy as np\n",
    "import pandas as pd\n",
    "import matplotlib.pyplot as plt"
   ]
  },
  {
   "cell_type": "markdown",
   "metadata": {},
   "source": [
    "---"
   ]
  },
  {
   "cell_type": "markdown",
   "metadata": {
    "nbgrader": {
     "grade": false,
     "grade_id": "cell-2f1ceb251c649b62",
     "locked": true,
     "schema_version": 1,
     "solution": false
    }
   },
   "source": [
    "### About the Dataset\n",
    "\n",
    "For the following exercise, we will use a dataset containing mushroom data `agaricus-lepiota.csv`. \n",
    "\n",
    "This data set includes descriptions of hypothetical samples corresponding to 23 species of gilled mushrooms in the Agaricus and Lepiota Family.<br>\n",
    "Each species is identified as definitely edible, definitely poisonous, or of unknown edibility and not recommended. This latter class was combined with the poisonous\n",
    "one (=there are only two classes **edible** and **poisonous**). \n",
    "    \n",
    "The dataset contains 8124 observations with 22 features:\n",
    "1. cap-shape: bell=b,conical=c,convex=x,flat=f,knobbed=k,sunken=s\n",
    "2. cap-surface: fibrous=f,grooves=g,scaly=y,smooth=s\n",
    "3. cap-color: brown=n,buff=b,cinnamon=c,gray=g,green=r,pink=p,purple=u,red=e,white=w,yellow=y\n",
    "4. bruises: bruises=t,no=f\n",
    "5. odor: almond=a,anise=l,creosote=c,fishy=y,foul=f, musty=m,none=n,pungent=p,spicy=s\n",
    "6. gill-attachment: attached=a,descending=d,free=f,notched=n\n",
    "7. gill-spacing: close=c,crowded=w,distant=d\n",
    "8. gill-size: broad=b,narrow=n\n",
    "9. gill-color: black=k,brown=n,buff=b,chocolate=h,gray=g,green=r,orange=o,pink=p,purple=u,red=e,white=w,yellow=y\n",
    "10. stalk-shape: enlarging=e,tapering=t\n",
    "11. stalk-root: bulbous=b,club=c,cup=u,equal=e,rhizomorphs=z,rooted=r\n",
    "12. stalk-surface-above-ring: fibrous=f,scaly=y,silky=k,smooth=s\n",
    "13. stalk-surface-below-ring: fibrous=f,scaly=y,silky=k,smooth=s\n",
    "14. stalk-color-above-ring: brown=n,buff=b,cinnamon=c,gray=g,orange=o,pink=p,red=e,white=w,yellow=y\n",
    "15. stalk-color-below-ring: brown=n,buff=b,cinnamon=c,gray=g,orange=o,pink=p,red=e,white=w,yellow=y\n",
    "16. veil-type: partial=p,universal=u\n",
    "17. veil-color: brown=n,orange=o,white=w,yellow=y\n",
    "18. ring-number: none=n,one=o,two=t\n",
    "19. ring-type: cobwebby=c,evanescent=e,flaring=f,large=l,none=n,pendant=p,sheathing=s,zone=z\n",
    "20. spore-print-color: black=k,brown=n,buff=b,chocolate=h,green=r,orange=o,purple=u,white=w,yellow=y\n",
    "21. population: abundant=a,clustered=c,numerous=n,scattered=s,several=v,solitary=y\n",
    "22. habitat: grasses=g,leaves=l,meadows=m,paths=p,urban=u,waste=w,woods=d"
   ]
  },
  {
   "cell_type": "markdown",
   "metadata": {},
   "source": [
    "---"
   ]
  },
  {
   "cell_type": "code",
   "execution_count": 2,
   "metadata": {
    "nbgrader": {
     "grade": false,
     "grade_id": "cell-d79cb4542926ad3f",
     "locked": true,
     "schema_version": 1,
     "solution": false
    }
   },
   "outputs": [],
   "source": [
    "data = pd.read_csv('agaricus-lepiota.csv')"
   ]
  },
  {
   "cell_type": "markdown",
   "metadata": {},
   "source": [
    "One of the advantages of the Decision Tree algorithm is that almost no preprocessing is required. However, finding missing values is always required."
   ]
  },
  {
   "cell_type": "code",
   "execution_count": 3,
   "metadata": {},
   "outputs": [],
   "source": [
    "data = data.dropna(axis=1)\n",
    "assert data.isna().sum().sum() == 0, 'There are missing values'"
   ]
  },
  {
   "cell_type": "markdown",
   "metadata": {},
   "source": [
    "We will split the dataset to `Training` and `Testing` datasets."
   ]
  },
  {
   "cell_type": "code",
   "execution_count": 4,
   "metadata": {},
   "outputs": [],
   "source": [
    "from sklearn.model_selection import train_test_split\n",
    "\n",
    "X, y = data.drop('class', axis=1), data['class']\n",
    "\n",
    "X_train, X_test, y_train, y_test = train_test_split(X, y, test_size=0.2, random_state=99)\n",
    "X_train, X_test = np.column_stack([X_train, y_train]), np.column_stack([X_test, y_test])  # In this implementation we make sure the target column (y) is the last column"
   ]
  },
  {
   "cell_type": "markdown",
   "metadata": {},
   "source": [
    "---"
   ]
  },
  {
   "cell_type": "markdown",
   "metadata": {
    "nbgrader": {
     "grade": false,
     "grade_id": "cell-fd7b0191f3f1e897",
     "locked": true,
     "schema_version": 1,
     "solution": false
    }
   },
   "source": [
    "### Impurity Measures\n",
    "\n",
    "Impurity is a measure of how often a randomly chosen element from the set would be incorrectly labeled if it was randomly labeled according to the distribution of labels in the subset."
   ]
  },
  {
   "cell_type": "code",
   "execution_count": 5,
   "metadata": {},
   "outputs": [],
   "source": [
    "def class_proportion(data):\n",
    "    return np.unique(data, return_counts=True)[1] / data.shape[0]"
   ]
  },
  {
   "cell_type": "code",
   "execution_count": 6,
   "metadata": {},
   "outputs": [],
   "source": [
    "def calc_gini(data):\n",
    "    \"\"\"\n",
    "    Calculate gini impurity measure of a dataset.\n",
    " \n",
    "    Input:\n",
    "    - data: any dataset where the last column holds the labels.\n",
    " \n",
    "    Returns the gini impurity.    \n",
    "    \"\"\"\n",
    "    \n",
    "    gini = 0\n",
    "    \n",
    "    p = class_proportion(data[: , -1])\n",
    "    gini = 1 - np.sum(np.square(p))\n",
    "    \n",
    "    return gini"
   ]
  },
  {
   "cell_type": "code",
   "execution_count": 7,
   "metadata": {},
   "outputs": [],
   "source": [
    "def calc_entropy(data):\n",
    "    \"\"\"\n",
    "    Calculate the entropy of a dataset.\n",
    "\n",
    "    Input:\n",
    "    - data: any dataset where the last column holds the labels.\n",
    "\n",
    "    Returns the entropy of the dataset.    \n",
    "    \"\"\"\n",
    "    \n",
    "    entropy = 0\n",
    "    \n",
    "    p = class_proportion(data[: , -1])\n",
    "    entropy = - np.sum(p * np.log2(p))  # Shannon's entropy\n",
    "    \n",
    "    return entropy"
   ]
  },
  {
   "cell_type": "code",
   "execution_count": 8,
   "metadata": {
    "scrolled": true,
    "tags": []
   },
   "outputs": [
    {
     "data": {
      "text/plain": [
       "(0.49946292351580546, 0.9992250236443583)"
      ]
     },
     "execution_count": 8,
     "metadata": {},
     "output_type": "execute_result"
    }
   ],
   "source": [
    "calc_gini(X_train), calc_entropy(X_train)"
   ]
  },
  {
   "cell_type": "markdown",
   "metadata": {},
   "source": [
    "---"
   ]
  },
  {
   "cell_type": "markdown",
   "metadata": {},
   "source": [
    "### Goodness of Split\n",
    "\n",
    "Given a feature the Goodnees of Split measures the reduction in the impurity if we split the data according to the feature.\n",
    "\n",
    "$$\n",
    "\\Delta\\varphi(S, A) = \\varphi(S) - \\sum_{v\\in Values(A)} \\frac{|S_v|}{|S|}\\varphi(S_v)\n",
    "$$\n",
    "\n",
    "In our implementation the goodness_of_split function will return either the Goodness of Split or the Gain Ratio.\n",
    "\n",
    "$$\n",
    "GainRatio(S,A)=\\frac{InformationGain(S,A)}{SplitInformation(S,A)}\n",
    "$$\n",
    "\n",
    "Where:\n",
    "$$\n",
    "InformationGain(S,A)=Goodness\\ of\\ Split\\ calculated\\ with\\ Entropy\\ as\\ the\\ Impurity\\ function \\\\\n",
    "SplitInformation(S,A)=- \\sum_{a\\in A} \\frac{|S_a|}{|S|}\\log\\frac{|S_a|}{|S|}\n",
    "$$"
   ]
  },
  {
   "cell_type": "code",
   "execution_count": 9,
   "metadata": {},
   "outputs": [],
   "source": [
    "def goodness_of_split(data, feature, impurity_func, gain_ratio=False):\n",
    "    \"\"\"\n",
    "    Calculate the goodness of split of a dataset given a feature and impurity function.\n",
    "\n",
    "    Input:\n",
    "    - data: any dataset where the last column holds the labels.\n",
    "    - feature: the feature index.\n",
    "    - impurity func: a function that calculates the impurity.\n",
    "    - gain_ratio: goodness of split or gain ratio flag.\n",
    "\n",
    "    Returns the goodness of split (or the Gain Ration).  \n",
    "    \"\"\"\n",
    "    \n",
    "    feature_data = data[:, feature]\n",
    "    categories, counts = np.unique(feature_data, return_counts=True)\n",
    "    \n",
    "    # Information Gain (gini) or Goodness of Split (Entropy) = sum((n / N) * Impurity_func(feature's category))\n",
    "    parent = impurity_func(data)\n",
    "    children = np.sum((counts / data.shape[0]) * np.array([impurity_func(data[feature_data == cat]) for cat in categories]))\n",
    "    goodness = parent - children\n",
    "    \n",
    "    # Gain Ratio = Information Gain (gini) or Goodness of Split (Entropy) / Split Information\n",
    "    if gain_ratio:\n",
    "        split_information = calc_entropy(np.expand_dims(feature_data, 1))\n",
    "        goodness = np.divide(goodness, split_information, out=np.zeros_like(goodness), where=split_information!=0)\n",
    "    \n",
    "    return goodness    "
   ]
  },
  {
   "cell_type": "code",
   "execution_count": 10,
   "metadata": {},
   "outputs": [
    {
     "data": {
      "text/plain": [
       "0.018184342653760788"
      ]
     },
     "execution_count": 10,
     "metadata": {},
     "output_type": "execute_result"
    }
   ],
   "source": [
    "goodness_of_split(data=X_train, feature=0, impurity_func=calc_gini, gain_ratio=False)"
   ]
  },
  {
   "cell_type": "code",
   "execution_count": 11,
   "metadata": {},
   "outputs": [
    {
     "data": {
      "text/plain": [
       "array(0.01693995)"
      ]
     },
     "execution_count": 11,
     "metadata": {},
     "output_type": "execute_result"
    }
   ],
   "source": [
    "goodness_of_split(data=X_train, feature=0, impurity_func=calc_entropy, gain_ratio=True)"
   ]
  },
  {
   "cell_type": "markdown",
   "metadata": {},
   "source": [
    "---"
   ]
  },
  {
   "cell_type": "markdown",
   "metadata": {},
   "source": [
    "## Decision Tree Implementation\n",
    "\n",
    "1. Initiating a node for a decision tree.\n",
    "2. The class support both Gini and Entropy as impurity measures.\n",
    "3. The provided data includes only categorical data.\n",
    "4. We create the tree recursivley using the ID3 Algorithm (with small modifications)."
   ]
  },
  {
   "cell_type": "code",
   "execution_count": 12,
   "metadata": {},
   "outputs": [],
   "source": [
    "class DecisionNode:\n",
    "    \"\"\"\n",
    "    This class will hold everything you require to construct a decision tree.\n",
    "    The structure of this class is up to you. However, you need to support basic \n",
    "    functionality as described above. It is highly recommended that you \n",
    "    first read and understand the entire exercise before diving into this class.\n",
    "    \"\"\"\n",
    "    \n",
    "    def __init__(self, data, initial_depth):\n",
    "        self.depth = initial_depth\n",
    "        self.children = []\n",
    "        self.children_names = []\n",
    "        \n",
    "    def add_child(self, node, name):\n",
    "        self.children.append(node)\n",
    "        self.children_names.append(name)"
   ]
  },
  {
   "cell_type": "code",
   "execution_count": 13,
   "metadata": {},
   "outputs": [],
   "source": [
    "def ID3(data, impurity, gain_ratio=False, min_samples_split=1, max_depth=1000, initial_depth=0):\n",
    "    \"\"\"\n",
    "    Build a tree using the given impurity measure and training dataset. \n",
    "    You are required to fully grow the tree until all leaves are pure. \n",
    "\n",
    "    Input:\n",
    "    - data: the training dataset.\n",
    "    - impurity: the chosen impurity measure. Notice that you can send a function\n",
    "                as an argument in python.\n",
    "    - gain_ratio: goodness of split or gain ratio flag\n",
    "    - min_samples_split: the minimum number of samples required to split an internal node\n",
    "    - max_depth: the allowable depth of the tree\n",
    "\n",
    "    Output: the root node of the tree.\n",
    "    \"\"\"\n",
    "    \n",
    "    root = None\n",
    "    \n",
    "    # ID3 Algorithm\n",
    "    root = DecisionNode(data, initial_depth=initial_depth)\n",
    "    labels, counts = np.unique(data[:, -1], return_counts=True)\n",
    "\n",
    "    root.target_counts = dict(np.column_stack([labels, counts]))\n",
    "    root.n_instances = np.sum(counts)\n",
    "    root.majority = labels[np.argmax(counts)]  # most common value\n",
    "    root.pred = root.majority  # default prediction\n",
    "    \n",
    "    n_features = data.shape[1] - 1\n",
    "\n",
    "    # Stopping conditions\n",
    "    if root.n_instances == np.max(counts):  # reached a pure leaf\n",
    "        return root\n",
    "    \n",
    "    if n_features < 1 or root.depth >= max_depth:  # not possible to split or reached max_depth\n",
    "        return root\n",
    "\n",
    "    best_feature = None\n",
    "    goodness_scores = [goodness_of_split(data, feature, impurity, gain_ratio) for feature in np.arange(n_features)]\n",
    "    \n",
    "    for feature, score in sorted(enumerate(goodness_scores), key=lambda x: x[1], reverse=True):\n",
    "        if len(np.unique(data[:, feature])) > 1:\n",
    "            best_feature = feature\n",
    "            break  # return the best feature with cardinality of above one\n",
    "    \n",
    "    if best_feature is not None:  # if best feature found\n",
    "        root.decision_attribute = best_feature\n",
    "\n",
    "        feature_data = data[:, best_feature]\n",
    "        for cat in np.unique(feature_data):\n",
    "            subset = data[feature_data == cat]  # the subset of instances       \n",
    "\n",
    "            if len(subset) >= min_samples_split:  # valid subset\n",
    "                subtree = ID3(data=subset, impurity=impurity, gain_ratio=gain_ratio,\n",
    "                              min_samples_split=min_samples_split, initial_depth=root.depth + 1, max_depth=max_depth)\n",
    "                root.add_child(node=subtree, name=cat)\n",
    "    \n",
    "    return root"
   ]
  },
  {
   "cell_type": "code",
   "execution_count": 14,
   "metadata": {
    "tags": []
   },
   "outputs": [],
   "source": [
    "tree_gini = ID3(data=X_train, impurity=calc_gini)  # gini and goodness of split\n",
    "tree_entropy = ID3(data=X_train, impurity=calc_entropy)  # entropy and goodness of split\n",
    "tree_entropy_gain_ratio = ID3(data=X_train, impurity=calc_entropy, gain_ratio=True)  # entropy and gain ratio"
   ]
  },
  {
   "cell_type": "markdown",
   "metadata": {},
   "source": [
    "---"
   ]
  },
  {
   "cell_type": "markdown",
   "metadata": {},
   "source": [
    "## Tree evaluation\n",
    "\n",
    "Complete the functions `predict` and `calc_accuracy`."
   ]
  },
  {
   "cell_type": "code",
   "execution_count": 15,
   "metadata": {},
   "outputs": [],
   "source": [
    "def predict(node, instance):\n",
    "    \"\"\"\n",
    "    Predict a given instance using the decision tree\n",
    " \n",
    "    Input:\n",
    "    - root: the root of the decision tree.\n",
    "    - instance: an row vector from the dataset. Note that the last element \n",
    "                of this vector is the label of the instance.\n",
    " \n",
    "    Output: the prediction of the instance.\n",
    "    \"\"\"\n",
    "    \n",
    "    def traverse_tree(node, instance):\n",
    "\n",
    "        feature_value = instance[node.decision_attribute]\n",
    "\n",
    "        if feature_value in node.children_names:\n",
    "            subtree = node.children[node.children_names.index(feature_value)]\n",
    "        else:\n",
    "            return node\n",
    "\n",
    "        if len(subtree.children) == 0:  # is a leaf\n",
    "            return subtree\n",
    "\n",
    "        return traverse_tree(node=subtree, instance=instance)\n",
    "    \n",
    "    \n",
    "    node = traverse_tree(node=node, instance=instance)\n",
    "    \n",
    "    return node.pred"
   ]
  },
  {
   "cell_type": "markdown",
   "metadata": {},
   "source": [
    "Testing the accuracy for each one of the trees, and return the name of the tree with the highest accuracy."
   ]
  },
  {
   "cell_type": "code",
   "execution_count": 16,
   "metadata": {},
   "outputs": [
    {
     "data": {
      "text/plain": [
       "'tree_entropy_gain_ratio'"
      ]
     },
     "execution_count": 16,
     "metadata": {},
     "output_type": "execute_result"
    }
   ],
   "source": [
    "trees_name = ['tree_gini', 'tree_entropy', 'tree_entropy_gain_ratio']\n",
    "trees = [tree_gini, tree_entropy, tree_entropy_gain_ratio]\n",
    "\n",
    "accuracies_train = [np.mean([predict(node=tree, instance=instance) == instance[-1] for instance in X_train]) for tree in trees]\n",
    "accuracies_test = [np.mean([predict(node=tree, instance=instance) == instance[-1] for instance in X_test]) for tree in trees]\n",
    "    \n",
    "trees_name[np.argmax(accuracies_test)]"
   ]
  },
  {
   "cell_type": "code",
   "execution_count": 17,
   "metadata": {},
   "outputs": [
    {
     "name": "stdout",
     "output_type": "stream",
     "text": [
      "[1.0, 1.0, 1.0]\n",
      "[0.7772307692307693, 0.7790769230769231, 0.7895384615384615]\n"
     ]
    }
   ],
   "source": [
    "print(accuracies_train)  # Predicting the train dataset will result in 100% accuracy (without pruning the tree)\n",
    "print(accuracies_test)"
   ]
  },
  {
   "cell_type": "markdown",
   "metadata": {},
   "source": [
    "---"
   ]
  },
  {
   "cell_type": "markdown",
   "metadata": {},
   "source": [
    "## Pruning methods:"
   ]
  },
  {
   "cell_type": "markdown",
   "metadata": {},
   "source": [
    "### Depth pruning\n",
    "\n",
    "Consider the following hyperparameter max_depth values: [1, 2, 3, 4, 5, 6, 7, 8].<br>\n",
    "For each value, we constructed a tree and pruned it according to the max_depth value (the tree won't grow beyond this depth).<br>\n",
    "We calculated the training and testing accuracy, and plotted the results."
   ]
  },
  {
   "cell_type": "code",
   "execution_count": 18,
   "metadata": {},
   "outputs": [],
   "source": [
    "max_depths = [1, 2, 3, 4, 5, 6, 7, 8, 9, 10, 11, 12, 13]\n",
    "\n",
    "trees_max_depth = [ID3(data=X_train, impurity=calc_entropy, gain_ratio=True, max_depth=max_depth) for max_depth in max_depths]\n",
    "accuracies_train_max_depth = [np.mean([predict(node=tree, instance=instance) == instance[-1] for instance in X_train]) for tree in trees_max_depth]\n",
    "accuracies_test_max_depth = [np.mean([predict(node=tree, instance=instance) == instance[-1] for instance in X_test]) for tree in trees_max_depth]"
   ]
  },
  {
   "cell_type": "code",
   "execution_count": 19,
   "metadata": {},
   "outputs": [
    {
     "data": {
      "image/png": "[encoded data removed]",
      "text/plain": [
       "<Figure size 648x360 with 1 Axes>"
      ]
     },
     "metadata": {
      "needs_background": "light"
     },
     "output_type": "display_data"
    }
   ],
   "source": [
    "fig, ax = plt.subplots(figsize=(9, 5))\n",
    "\n",
    "ax.plot(max_depths, accuracies_train_max_depth, label='X_train', zorder=0)\n",
    "ax.plot(max_depths, accuracies_test_max_depth, label='X_test', zorder=0)\n",
    "\n",
    "x, y = max_depths[np.argmax(accuracies_test_max_depth)], np.max(accuracies_test_max_depth)\n",
    "\n",
    "ax.plot([x], [y], color='tab:red', marker='o', markerfacecolor='None', ms=15, markeredgewidth=3, zorder=1)\n",
    "ax.annotate(text=f'Test Accuracy {np.round(y, 3)}', xy=(x*1.01, y*0.99), xytext=(x*0.8, y*0.95), fontsize=12,\n",
    "            arrowprops=dict(arrowstyle='fancy', connectionstyle='arc3', color='k', alpha=0.5))\n",
    "\n",
    "ax.set_title('Train and test accuracy (underfitting and overfitting)', fontsize=18, pad=15)\n",
    "ax.set_xlabel('Max Depth'), ax.set_xlabel('Accuracy')\n",
    "\n",
    "ax.legend();"
   ]
  },
  {
   "cell_type": "markdown",
   "metadata": {},
   "source": [
    "---"
   ]
  },
  {
   "cell_type": "markdown",
   "metadata": {},
   "source": [
    "### Min Samples Split\n",
    "\n",
    "Consider the following hyperparameter min_samples_split values: [1, 5, 10, 20, 50].<br>\n",
    "For each value, we constructed a tree and pruned it according to the min_samples_split value."
   ]
  },
  {
   "cell_type": "code",
   "execution_count": 20,
   "metadata": {},
   "outputs": [],
   "source": [
    "min_samples_split = [1, 5, 10, 20, 50, 100]\n",
    "\n",
    "trees_min_samples = [ID3(data=X_train, impurity=calc_entropy, gain_ratio=True, min_samples_split=min_samples) for min_samples in min_samples_split]\n",
    "accuracies_train_min_samples = [np.mean([predict(node=tree, instance=instance) == instance[-1] for instance in X_train]) for tree in trees_min_samples]\n",
    "accuracies_test_min_samples = [np.mean([predict(node=tree, instance=instance) == instance[-1] for instance in X_test]) for tree in trees_min_samples]"
   ]
  },
  {
   "cell_type": "code",
   "execution_count": 21,
   "metadata": {},
   "outputs": [
    {
     "data": {
      "image/png": "[encoded data removed]",
      "text/plain": [
       "<Figure size 648x360 with 1 Axes>"
      ]
     },
     "metadata": {
      "needs_background": "light"
     },
     "output_type": "display_data"
    }
   ],
   "source": [
    "fig, ax = plt.subplots(figsize=(9, 5))\n",
    "\n",
    "ax.plot(min_samples_split, accuracies_train_min_samples, label='X_train', zorder=0)\n",
    "ax.plot(min_samples_split, accuracies_test_min_samples, label='X_test', zorder=0)\n",
    "\n",
    "x, y = min_samples_split[np.argmax(accuracies_test_min_samples)], np.max(accuracies_test_min_samples)\n",
    "\n",
    "ax.plot([x], [y], color='tab:red', marker='o', markerfacecolor='None', ms=15, markeredgewidth=3, zorder=1)\n",
    "ax.annotate(text=f'Test Accuracy {np.round(y, 3)}', xy=(x*1.01, y*0.99), xytext=(x*0.8, y*0.95), fontsize=12,\n",
    "            arrowprops=dict(arrowstyle='fancy', connectionstyle='arc3', color='k', alpha=0.5))\n",
    "\n",
    "ax.set_title('Train and test accuracy (underfitting and overfitting)', fontsize=18, pad=15)\n",
    "ax.set_xlabel('Max Depth'), ax.set_xlabel('Accuracy')\n",
    "\n",
    "ax.legend();"
   ]
  },
  {
   "cell_type": "markdown",
   "metadata": {},
   "source": [
    "Building the best trees in terms of max_depth and min_samples_split:\n",
    "1. tree_max_depth - the best tree according to max_depth pruning\n",
    "2. tree_min_samples_split - the best tree according to min_samples_split pruning"
   ]
  },
  {
   "cell_type": "code",
   "execution_count": 22,
   "metadata": {},
   "outputs": [],
   "source": [
    "tree_max_depth = trees_max_depth[np.argmax(accuracies_test_max_depth)]\n",
    "tree_min_samples_split = trees_min_samples[np.argmax(accuracies_test_min_samples)]"
   ]
  },
  {
   "cell_type": "markdown",
   "metadata": {},
   "source": [
    "---"
   ]
  },
  {
   "cell_type": "markdown",
   "metadata": {},
   "source": [
    "### Exploring tree's structure:"
   ]
  },
  {
   "cell_type": "markdown",
   "metadata": {},
   "source": [
    "**Utility function which counts recursively the number of nodes of a given tree.**"
   ]
  },
  {
   "cell_type": "code",
   "execution_count": 23,
   "metadata": {},
   "outputs": [],
   "source": [
    "def count_nodes(node):\n",
    "    \"\"\"\n",
    "    Count the number of node in a given tree\n",
    " \n",
    "    Input:\n",
    "    - node: a node in the decision tree.\n",
    " \n",
    "    Output: the number of node in the tree.\n",
    "    \"\"\"\n",
    "\n",
    "    if len(node.children) == 0:\n",
    "        return 1\n",
    "    \n",
    "    return 1 + np.sum([count_nodes(node) for node in node.children])"
   ]
  },
  {
   "cell_type": "code",
   "execution_count": 24,
   "metadata": {},
   "outputs": [
    {
     "name": "stdout",
     "output_type": "stream",
     "text": [
      "tree_max_depth: 216\n",
      "tree_min_samples_split: 352\n"
     ]
    }
   ],
   "source": [
    "print('tree_max_depth:', count_nodes(tree_max_depth))\n",
    "print('tree_min_samples_split:', count_nodes(tree_min_samples_split))"
   ]
  },
  {
   "cell_type": "markdown",
   "metadata": {},
   "source": [
    "---"
   ]
  },
  {
   "cell_type": "markdown",
   "metadata": {},
   "source": [
    "**Utility function which prints the tree structure recursively.**"
   ]
  },
  {
   "cell_type": "markdown",
   "metadata": {},
   "source": [
    "We print the root of the tree, the nodes and the leafs."
   ]
  },
  {
   "cell_type": "code",
   "execution_count": 25,
   "metadata": {},
   "outputs": [],
   "source": [
    "def print_tree(node, depth=0, parent_feature='ROOT', feature_val='ROOT'):\n",
    "    '''\n",
    "    prints the tree according to the example above\n",
    "\n",
    "    Input:\n",
    "    - node: a node in the decision tree\n",
    "\n",
    "    This function has no return value\n",
    "    '''\n",
    "    \n",
    "    # Preorder traversal\n",
    "    if node.depth == 0:  # Print the root\n",
    "        print(f'[ROOT, feature=X{node.decision_attribute}]')\n",
    "    \n",
    "    if node.children != []:\n",
    "        for child, name in zip(node.children, node.children_names):\n",
    "            if len(child.children) != 0:  # is not a leaf\n",
    "                print(' ' * 4 * child.depth + f'[X{node.decision_attribute}={name}, feature={child.decision_attribute}]')\n",
    "                print_tree(child)\n",
    "            else:\n",
    "                print(' ' * 4 * child.depth + f'[X{node.decision_attribute}={name}, leaf]: [{child.target_counts}]')"
   ]
  },
  {
   "cell_type": "code",
   "execution_count": 26,
   "metadata": {},
   "outputs": [
    {
     "name": "stdout",
     "output_type": "stream",
     "text": [
      "[ROOT, feature=X4]\n",
      "    [X4=a, feature=2]\n",
      "        [X2=n, feature=8]\n",
      "            [X8=n, feature=19]\n",
      "                [X19=s, leaf]: [{'e': 5, 'p': 3}]\n",
      "                [X19=y, leaf]: [{'e': 8}]\n",
      "            [X8=p, feature=0]\n",
      "                [X0=f, leaf]: [{'e': 2, 'p': 1}]\n",
      "                [X0=x, leaf]: [{'e': 7}]\n",
      "            [X8=w, feature=18]\n",
      "                [X18=k, leaf]: [{'e': 5, 'p': 1}]\n",
      "                [X18=n, leaf]: [{'e': 7}]\n",
      "        [X2=w, feature=6]\n",
      "            [X6=c, feature=20]\n",
      "                [X20=g, leaf]: [{'e': 48, 'p': 2}]\n",
      "                [X20=m, leaf]: [{'e': 45, 'p': 6}]\n",
      "            [X6=w, leaf]: [{'e': 21}]\n",
      "        [X2=y, feature=6]\n",
      "            [X6=c, feature=8]\n",
      "                [X8=g, leaf]: [{'e': 24, 'p': 3}]\n",
      "                [X8=k, leaf]: [{'e': 23, 'p': 1}]\n",
      "                [X8=n, leaf]: [{'e': 33, 'p': 7}]\n",
      "                [X8=p, leaf]: [{'e': 15}]\n",
      "                [X8=w, leaf]: [{'e': 33, 'p': 6}]\n",
      "            [X6=w, feature=0]\n",
      "                [X0=f, leaf]: [{'e': 7, 'p': 1}]\n",
      "                [X0=x, leaf]: [{'e': 5, 'p': 3}]\n",
      "    [X4=c, feature=6]\n",
      "        [X6=c, feature=19]\n",
      "            [X19=s, feature=1]\n",
      "                [X1=f, leaf]: [{'e': 5, 'p': 14}]\n",
      "                [X1=s, leaf]: [{'e': 1, 'p': 17}]\n",
      "            [X19=v, feature=8]\n",
      "                [X8=g, leaf]: [{'p': 9}]\n",
      "                [X8=n, leaf]: [{'p': 10}]\n",
      "                [X8=p, leaf]: [{'p': 11}]\n",
      "                [X8=u, leaf]: [{'e': 1, 'p': 8}]\n",
      "        [X6=w, feature=2]\n",
      "            [X2=g, leaf]: [{'p': 26}]\n",
      "            [X2=p, feature=19]\n",
      "                [X19=s, leaf]: [{'p': 12}]\n",
      "                [X19=v, leaf]: [{'e': 2, 'p': 12}]\n",
      "            [X2=w, feature=18]\n",
      "                [X18=k, leaf]: [{'p': 14}]\n",
      "                [X18=n, leaf]: [{'e': 1, 'p': 12}]\n",
      "    [X4=f, feature=10]\n",
      "        [X10=f, feature=2]\n",
      "            [X2=b, feature=19]\n",
      "                [X19=s, leaf]: [{'e': 6, 'p': 14}]\n",
      "                [X19=v, leaf]: [{'e': 2, 'p': 18}]\n",
      "            [X2=g, feature=19]\n",
      "                [X19=s, leaf]: [{'e': 4, 'p': 13}]\n",
      "                [X19=v, leaf]: [{'e': 2, 'p': 16}]\n",
      "            [X2=w, feature=8]\n",
      "                [X8=h, leaf]: [{'p': 14}]\n",
      "                [X8=p, leaf]: [{'e': 1, 'p': 9}]\n",
      "                [X8=w, leaf]: [{'p': 14}]\n",
      "        [X10=k, feature=19]\n",
      "            [X19=v, feature=11]\n",
      "                [X11=k, leaf]: [{'e': 59, 'p': 566}]\n",
      "                [X11=s, leaf]: [{'e': 16, 'p': 93}]\n",
      "            [X19=y, feature=2]\n",
      "                [X2=g, leaf]: [{'e': 29, 'p': 236}]\n",
      "                [X2=y, leaf]: [{'e': 41, 'p': 221}]\n",
      "        [X10=s, feature=19]\n",
      "            [X19=s, feature=0]\n",
      "                [X0=f, leaf]: [{'e': 2, 'p': 27}]\n",
      "                [X0=x, leaf]: [{'p': 30}]\n",
      "            [X19=v, feature=8]\n",
      "                [X8=b, leaf]: [{'e': 16, 'p': 213}]\n",
      "                [X8=h, leaf]: [{'e': 3, 'p': 15}]\n",
      "                [X8=p, leaf]: [{'e': 2, 'p': 18}]\n",
      "                [X8=w, leaf]: [{'e': 1, 'p': 20}]\n",
      "    [X4=l, feature=1]\n",
      "        [X1=f, feature=2]\n",
      "            [X2=w, feature=0]\n",
      "                [X0=f, leaf]: [{'e': 4, 'p': 1}]\n",
      "                [X0=x, leaf]: [{'e': 5}]\n",
      "            [X2=y, leaf]: [{'e': 11}]\n",
      "        [X1=s, feature=2]\n",
      "            [X2=w, feature=8]\n",
      "                [X8=g, leaf]: [{'e': 13, 'p': 1}]\n",
      "                [X8=k, leaf]: [{'e': 9, 'p': 5}]\n",
      "                [X8=n, leaf]: [{'e': 14, 'p': 2}]\n",
      "                [X8=p, leaf]: [{'e': 3, 'p': 1}]\n",
      "                [X8=w, leaf]: [{'e': 13, 'p': 3}]\n",
      "            [X2=y, feature=8]\n",
      "                [X8=g, leaf]: [{'e': 12, 'p': 2}]\n",
      "                [X8=k, leaf]: [{'e': 10, 'p': 1}]\n",
      "                [X8=n, leaf]: [{'e': 13, 'p': 1}]\n",
      "                [X8=p, leaf]: [{'e': 3, 'p': 1}]\n",
      "                [X8=w, leaf]: [{'e': 12}]\n",
      "        [X1=y, feature=8]\n",
      "            [X8=g, feature=18]\n",
      "                [X18=k, leaf]: [{'e': 9, 'p': 2}]\n",
      "                [X18=n, leaf]: [{'e': 13}]\n",
      "            [X8=k, feature=18]\n",
      "                [X18=k, leaf]: [{'e': 14}]\n",
      "                [X18=n, leaf]: [{'e': 10, 'p': 3}]\n",
      "            [X8=n, feature=19]\n",
      "                [X19=n, leaf]: [{'e': 15, 'p': 1}]\n",
      "                [X19=s, leaf]: [{'e': 24, 'p': 4}]\n",
      "                [X19=y, leaf]: [{'e': 11}]\n",
      "            [X8=p, feature=20]\n",
      "                [X20=g, leaf]: [{'e': 8, 'p': 1}]\n",
      "                [X20=p, leaf]: [{'e': 13}]\n",
      "            [X8=w, feature=2]\n",
      "                [X2=n, leaf]: [{'e': 12, 'p': 1}]\n",
      "                [X2=w, leaf]: [{'e': 11}]\n",
      "                [X2=y, leaf]: [{'e': 26}]\n",
      "    [X4=m, feature=0]\n",
      "        [X0=f, feature=5]\n",
      "            [X5=a, leaf]: [{'p': 5}]\n",
      "            [X5=f, feature=2]\n",
      "                [X2=c, leaf]: [{'e': 1}]\n",
      "                [X2=e, leaf]: [{'p': 2}]\n",
      "                [X2=n, leaf]: [{'p': 1}]\n",
      "        [X0=k, feature=8]\n",
      "            [X8=w, feature=2]\n",
      "                [X2=c, leaf]: [{'p': 2}]\n",
      "                [X2=e, leaf]: [{'e': 1, 'p': 1}]\n",
      "                [X2=n, leaf]: [{'e': 1, 'p': 1}]\n",
      "            [X8=y, leaf]: [{'p': 6}]\n",
      "        [X0=x, leaf]: [{'p': 9}]\n",
      "    [X4=n, feature=7]\n",
      "        [X7=b, feature=18]\n",
      "            [X18=b, feature=0]\n",
      "                [X0=b, leaf]: [{'e': 10}]\n",
      "                [X0=f, leaf]: [{'e': 8}]\n",
      "                [X0=k, leaf]: [{'e': 6, 'p': 1}]\n",
      "                [X0=x, leaf]: [{'e': 11, 'p': 1}]\n",
      "            [X18=k, feature=8]\n",
      "                [X8=h, leaf]: [{'e': 71, 'p': 5}]\n",
      "                [X8=k, leaf]: [{'e': 70, 'p': 4}]\n",
      "                [X8=n, leaf]: [{'e': 221, 'p': 31}]\n",
      "                [X8=p, leaf]: [{'e': 234, 'p': 29}]\n",
      "                [X8=u, leaf]: [{'e': 147, 'p': 18}]\n",
      "                [X8=w, leaf]: [{'e': 155, 'p': 11}]\n",
      "            [X18=n, feature=15]\n",
      "                [X15=n, leaf]: [{'e': 14, 'p': 5}]\n",
      "                [X15=o, leaf]: [{'e': 18, 'p': 1}]\n",
      "                [X15=w, leaf]: [{'e': 907, 'p': 107}]\n",
      "            [X18=o, feature=19]\n",
      "                [X19=c, leaf]: [{'e': 12, 'p': 5}]\n",
      "                [X19=v, leaf]: [{'e': 16}]\n",
      "            [X18=r, feature=8]\n",
      "                [X8=g, leaf]: [{'e': 2, 'p': 17}]\n",
      "                [X8=r, leaf]: [{'e': 4, 'p': 17}]\n",
      "                [X8=w, leaf]: [{'p': 15}]\n",
      "            [X18=w, feature=13]\n",
      "                [X13=e, leaf]: [{'e': 72, 'p': 10}]\n",
      "                [X13=n, leaf]: [{'e': 12, 'p': 2}]\n",
      "                [X13=w, leaf]: [{'e': 317, 'p': 26}]\n",
      "            [X18=y, feature=0]\n",
      "                [X0=b, leaf]: [{'e': 7, 'p': 2}]\n",
      "                [X0=f, leaf]: [{'e': 12}]\n",
      "                [X0=k, leaf]: [{'e': 6, 'p': 2}]\n",
      "                [X0=x, leaf]: [{'e': 11}]\n",
      "        [X7=n, feature=3]\n",
      "            [X3=f, feature=10]\n",
      "                [X10=f, leaf]: [{'e': 17, 'p': 3}]\n",
      "                [X10=k, leaf]: [{'p': 26}]\n",
      "                [X10=s, leaf]: [{'e': 122, 'p': 16}]\n",
      "                [X10=y, leaf]: [{'p': 7}]\n",
      "            [X3=t, leaf]: [{'p': 8}]\n",
      "    [X4=p, feature=18]\n",
      "        [X18=k, feature=0]\n",
      "            [X0=f, feature=8]\n",
      "                [X8=k, leaf]: [{'e': 2, 'p': 10}]\n",
      "                [X8=n, leaf]: [{'e': 2, 'p': 10}]\n",
      "                [X8=p, leaf]: [{'e': 1, 'p': 12}]\n",
      "                [X8=w, leaf]: [{'e': 1, 'p': 14}]\n",
      "            [X0=x, feature=20]\n",
      "                [X20=g, leaf]: [{'e': 2, 'p': 26}]\n",
      "                [X20=u, leaf]: [{'p': 24}]\n",
      "        [X18=n, feature=20]\n",
      "            [X20=g, feature=1]\n",
      "                [X1=s, leaf]: [{'e': 1, 'p': 21}]\n",
      "                [X1=y, leaf]: [{'p': 23}]\n",
      "            [X20=u, leaf]: [{'p': 50}]\n",
      "    [X4=s, feature=13]\n",
      "        [X13=p, feature=2]\n",
      "            [X2=e, feature=10]\n",
      "                [X10=k, leaf]: [{'e': 4, 'p': 49}]\n",
      "                [X10=s, leaf]: [{'e': 1, 'p': 57}]\n",
      "            [X2=n, feature=20]\n",
      "                [X20=d, leaf]: [{'e': 1, 'p': 32}]\n",
      "                [X20=l, leaf]: [{'e': 4, 'p': 27}]\n",
      "                [X20=p, leaf]: [{'e': 3, 'p': 37}]\n",
      "        [X13=w, feature=12]\n",
      "            [X12=p, feature=0]\n",
      "                [X0=f, leaf]: [{'e': 8, 'p': 29}]\n",
      "                [X0=k, leaf]: [{'e': 4, 'p': 32}]\n",
      "                [X0=x, leaf]: [{'e': 7, 'p': 32}]\n",
      "            [X12=w, feature=0]\n",
      "                [X0=f, leaf]: [{'p': 40}]\n",
      "                [X0=k, leaf]: [{'e': 3, 'p': 32}]\n",
      "                [X0=x, leaf]: [{'e': 5, 'p': 35}]\n",
      "    [X4=y, feature=1]\n",
      "        [X1=s, feature=2]\n",
      "            [X2=e, feature=12]\n",
      "                [X12=p, leaf]: [{'e': 5, 'p': 49}]\n",
      "                [X12=w, leaf]: [{'e': 9, 'p': 53}]\n",
      "            [X2=n, feature=20]\n",
      "                [X20=d, leaf]: [{'e': 1, 'p': 35}]\n",
      "                [X20=l, leaf]: [{'e': 2, 'p': 35}]\n",
      "                [X20=p, leaf]: [{'e': 3, 'p': 33}]\n",
      "        [X1=y, feature=12]\n",
      "            [X12=p, feature=0]\n",
      "                [X0=f, leaf]: [{'e': 7, 'p': 33}]\n",
      "                [X0=k, leaf]: [{'e': 5, 'p': 32}]\n",
      "                [X0=x, leaf]: [{'p': 37}]\n",
      "            [X12=w, feature=0]\n",
      "                [X0=f, leaf]: [{'e': 5, 'p': 37}]\n",
      "                [X0=k, leaf]: [{'e': 5, 'p': 34}]\n",
      "                [X0=x, leaf]: [{'e': 10, 'p': 31}]\n"
     ]
    }
   ],
   "source": [
    "print_tree(tree_max_depth)"
   ]
  },
  {
   "cell_type": "markdown",
   "metadata": {},
   "source": [
    "---"
   ]
  }
 ],
 "metadata": {
  "celltoolbar": "Create Assignment",
  "kernelspec": {
   "display_name": "Python 3",
   "language": "python",
   "name": "python3"
  },
  "language_info": {
   "codemirror_mode": {
    "name": "ipython",
    "version": 3
   },
   "file_extension": ".py",
   "mimetype": "text/x-python",
   "name": "python",
   "nbconvert_exporter": "python",
   "pygments_lexer": "ipython3",
   "version": "3.8.8"
  }
 },
 "nbformat": 4,
 "nbformat_minor": 4
}
